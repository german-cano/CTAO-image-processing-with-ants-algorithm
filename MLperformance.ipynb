{
  "cells": [
    {
      "cell_type": "markdown",
      "metadata": {
        "id": "view-in-github",
        "colab_type": "text"
      },
      "source": [
        "<a href=\"https://colab.research.google.com/github/german-cano/CTAO-image-processing-with-ants-algorithm/blob/main/MLperformance.ipynb\" target=\"_parent\"><img src=\"https://colab.research.google.com/assets/colab-badge.svg\" alt=\"Open In Colab\"/></a>"
      ]
    },
    {
      "cell_type": "markdown",
      "source": [
        "Notebook for automatic data classification with different machine learning models.\n",
        "In this notebook I study the performance of different ML algorithms such as Knearest-neighbours, support vector machine and neural networks. Since the fine tuning of the models is not the purpose of this project I will not dedicate much time to it. The parameter of the models will then be set to default or close to it.\n",
        "\n",
        "Mapie library is used along the notebook to quantify the uncertainty of the models within a confidence interval. However since the fundation of the mathematical concepts that this library uses were not clear to me at the moment of writing the report i did not include its results there."
      ],
      "metadata": {
        "id": "jbImlLWzhSVT"
      }
    },
    {
      "cell_type": "code",
      "execution_count": null,
      "metadata": {
        "colab": {
          "base_uri": "https://localhost:8080/"
        },
        "id": "bvWSn3s9_O3N",
        "outputId": "5802e494-7350-4670-806a-c1a98cdb9a0a"
      },
      "outputs": [
        {
          "output_type": "stream",
          "name": "stdout",
          "text": [
            "Mounted at /content/drive\n"
          ]
        }
      ],
      "source": [
        "from google.colab import drive\n",
        "drive.mount('/content/drive')"
      ]
    },
    {
      "cell_type": "code",
      "execution_count": null,
      "metadata": {
        "id": "VLNyXUJ44TsX"
      },
      "outputs": [],
      "source": [
        "%%capture\n",
        "!pip install mapie"
      ]
    },
    {
      "cell_type": "code",
      "execution_count": null,
      "metadata": {
        "id": "HtOGw3Q1ES-r"
      },
      "outputs": [],
      "source": [
        "%%capture\n",
        "!pip install scikeras"
      ]
    },
    {
      "cell_type": "code",
      "execution_count": null,
      "metadata": {
        "id": "vDG1qk4m3yNr"
      },
      "outputs": [],
      "source": [
        "import numpy as np\n",
        "from sklearn import preprocessing\n",
        "from sklearn.model_selection import train_test_split\n",
        "from sklearn.metrics import confusion_matrix, ConfusionMatrixDisplay\n",
        "import matplotlib.pyplot as plt\n",
        "import gc\n",
        "\n",
        "#KNN\n",
        "from sklearn.neighbors import KNeighborsClassifier\n",
        "\n",
        "#SVC\n",
        "from sklearn.svm import SVC\n",
        "\n",
        "#NN\n",
        "import keras\n",
        "from keras.models import Sequential\n",
        "from keras.layers import Dense, Dropout, Masking, Conv1D, GlobalMaxPooling1D\n",
        "from sklearn.utils.class_weight import compute_class_weight\n",
        "from sklearn.pipeline import Pipeline\n",
        "from scikeras.wrappers import KerasClassifier\n",
        "\n",
        "#conformal predictors\n",
        "from mapie.classification import MapieClassifier\n",
        "from mapie.multi_label_classification import MapieMultiLabelClassifier\n",
        "from mapie.metrics import (classification_coverage_score_v2,\n",
        "                           classification_mean_width_score)"
      ]
    },
    {
      "cell_type": "code",
      "execution_count": null,
      "metadata": {
        "id": "7y1hvgnw_NFN"
      },
      "outputs": [],
      "source": [
        "#shortcut for the paths\n",
        "pth = '/content/drive/MyDrive/TFG/'"
      ]
    },
    {
      "cell_type": "code",
      "execution_count": null,
      "metadata": {
        "id": "Nh4kFUfEX7xK"
      },
      "outputs": [],
      "source": [
        "#Here I load the data generated on past notebooks\n",
        "\n",
        "#Load data\n",
        "data = np.load(pth + 'ctadata_raw.npz') # imag, temp, event\n",
        "\n",
        "imag = data['imag'] # shape (41083,1855), phe charge detected at each pixel\n",
        "event = data['event'] # shape (41083,), Event classification, used for the ML algorithms\n",
        "mask = data['mask'] #shape (41083, 1855), whether if each 'imag' value belongs to background noise or not\n",
        "bckgr = data['bckgr_reduced'] #shape (2,), Background noise expresed as its deviation and mean after fitting the data to a gaussian\n",
        "ev0 = data['flatpos']#shape(781,) , flatfield data position. Since those are triggered events we can take them out of classification"
      ]
    },
    {
      "cell_type": "markdown",
      "source": [
        "#Data preproccesing"
      ],
      "metadata": {
        "id": "NAJCKK88tlNE"
      }
    },
    {
      "cell_type": "code",
      "source": [
        "def filtflatfield(data, mask, ev0=ev0):\n",
        "  '''\n",
        "  data: phe charge per pixel\n",
        "  mask: boolean, whether if each pixel data is noise\n",
        "  ev0: positions within data of events classified as flatfield\n",
        "  '''\n",
        "  filtimag = []\n",
        "  filtevent = []\n",
        "  for index in range(data.shape[0]):\n",
        "    if index in ev0:\n",
        "      pass\n",
        "    else:\n",
        "      filtimag.append(data[index])\n",
        "      filtevent.append(mask[index])\n",
        "\n",
        "  return np.array(filtimag), np.array(filtevent)"
      ],
      "metadata": {
        "id": "9hVI2quiOiNS"
      },
      "execution_count": null,
      "outputs": []
    },
    {
      "cell_type": "code",
      "source": [
        "filtimag, filtevent = filtflatfield(imag, event)"
      ],
      "metadata": {
        "id": "u1Mne-QMQIn_"
      },
      "execution_count": null,
      "outputs": []
    },
    {
      "cell_type": "code",
      "execution_count": null,
      "metadata": {
        "id": "eu4kbbagm9uj"
      },
      "outputs": [],
      "source": [
        "#In order to train the diferent ML models we need the data to be normalized\n",
        "#Normalizing data is common practice in ML to improve models performance\n",
        "#Here i also split the data into training and test sets.\n",
        "\n",
        "def split_norm( X, Y):\n",
        "   '''\n",
        "   X: Set of events\n",
        "   Y: classification of each event\n",
        "   '''\n",
        "\n",
        "    X_train_cal, X_test, Y_train_cal, Y_test = train_test_split(X,Y, test_size = 0.2, shuffle = True )\n",
        "    X_train, X_cal, Y_train, Y_cal = train_test_split(X_train_cal,Y_train_cal, test_size = 0.25, shuffle = True )\n",
        "\n",
        "    #normalizing the data\n",
        "    scaler = preprocessing.MaxAbsScaler().fit(X_train) #Scale such that the maximum value is 1.\n",
        "    X_train = scaler.transform(X_train)\n",
        "    X_test = scaler.transform(X_test) # use the same transformation on test data\n",
        "    X_cal = scaler.transform(X_cal)\n",
        "\n",
        "    return X_train,X_test ,X_cal ,Y_train ,Y_test, Y_cal\n"
      ]
    },
    {
      "cell_type": "code",
      "execution_count": null,
      "metadata": {
        "id": "K6zqmXZq_8KW"
      },
      "outputs": [],
      "source": [
        "#code to split and normalize raw graphs data.\n",
        "\n",
        "\n",
        "def graph_split_norm( X, Y):\n",
        "     '''\n",
        "   X: Set of events as graphs\n",
        "   Y: classification of each event\n",
        "   '''\n",
        "\n",
        "    X_train_cal, X_test, Y_train_cal, Y_test = train_test_split(X,Y, test_size = 0.2, shuffle = True )\n",
        "    X_train, X_cal, Y_train, Y_cal = train_test_split(X_train_cal,Y_train_cal, test_size = 0.25, shuffle = True )\n",
        "\n",
        "    #normalizing the data\n",
        "    scaler = {}\n",
        "    for i in range(X_train.shape[2]):\n",
        "      scaler[i] = preprocessing.MaxAbsScaler()\n",
        "      X_train[:,:,i] = scaler[i].fit_transform(X_train[:,:,i])\n",
        "      X_test[:,:,i] = scaler[i].fit_transform(X_test[:,:,i])\n",
        "      X_cal[:,:,i] = scaler[i].fit_transform(X_cal[:,:,i])\n",
        "\n",
        "    return X_train,X_test ,X_cal ,Y_train ,Y_test, Y_cal\n",
        "\n"
      ]
    },
    {
      "cell_type": "code",
      "execution_count": null,
      "metadata": {
        "id": "rgD59l6bEHTw"
      },
      "outputs": [],
      "source": [
        "#redefinition of labels to classiffy the data\n",
        "\n",
        "filtmask = filtevent.copy()\n",
        "for index in range(filtmask.shape[0]):\n",
        "  if filtmask[index] == 2:\n",
        "    filtmask[index] = 0\n",
        "  elif filtmask[index] == 32:\n",
        "    filtmask[index] = 1\n"
      ]
    },
    {
      "cell_type": "code",
      "source": [
        "X_train,X_test ,X_cal ,Y_train ,Y_test, Y_cal = split_norm(filtimag, filtmask)"
      ],
      "metadata": {
        "id": "qlISc51_Te5I"
      },
      "execution_count": null,
      "outputs": []
    },
    {
      "cell_type": "markdown",
      "metadata": {
        "id": "yWAaurHpeElG"
      },
      "source": [
        "# SCI-KIT LEARN MODELS"
      ]
    },
    {
      "cell_type": "markdown",
      "metadata": {
        "id": "8BC4iXhffjoV"
      },
      "source": [
        "## KNN"
      ]
    },
    {
      "cell_type": "code",
      "source": [
        "def KNNmodel(neighbors, Xtrain,Xtest, Xcal ,Ytrain, Ytest , Ycal):\n",
        "  #neighbors: number of neighbours to consider\n",
        "\n",
        "  KNN = KNeighborsClassifier(n_neighbors = neighbors)\n",
        "  #mapie wrapper to quantify model uncertainty\n",
        "  mapie_KNNclassifier = MapieClassifier(estimator=KNN, method='lac', cv=5)\n",
        "  mapie_KNNclassifier.fit(Xtrain, Ytrain)\n",
        "\n",
        "  pred,predps = mapie_KNNclassifier.predict(Xcal, alpha = 0.05) #95% of certainty\n",
        "  KNNcoverage = classification_coverage_score_v2(Ycal, predps) #fraction of true labels that lie within prediction set\n",
        "\n",
        "  print(f'With 95% of certainty, the model precission on calibration set is {KNNcoverage}')\n",
        "\n",
        "  #confusion matrix for performance visualization\n",
        "  cm = confusion_matrix(Ytest, pred, labels= [0,1], normalize='all')\n",
        "  disp = ConfusionMatrixDisplay(confusion_matrix=cm, display_labels= [0,1])\n",
        "\n",
        "  disp.plot()\n",
        "  #plt.savefig('knnraw.png')\n",
        "  gc.collect() #this free ram memory\n",
        "  return"
      ],
      "metadata": {
        "id": "OOP3BMsGIBWC"
      },
      "execution_count": null,
      "outputs": []
    },
    {
      "cell_type": "code",
      "source": [
        "KNNmodel(3, X_train,X_test ,X_cal ,Y_train ,Y_test, Y_cal )"
      ],
      "metadata": {
        "colab": {
          "base_uri": "https://localhost:8080/",
          "height": 466
        },
        "id": "NmVqT63ETiTp",
        "outputId": "e2491f86-444f-439d-8ae1-907ddef2275e"
      },
      "execution_count": null,
      "outputs": [
        {
          "output_type": "stream",
          "name": "stdout",
          "text": [
            "With 95% of certainty, the model precission is [0.94330728]\n"
          ]
        },
        {
          "output_type": "display_data",
          "data": {
            "text/plain": [
              "<Figure size 640x480 with 2 Axes>"
            ],
            "image/png": "[encoded data removed]"
          },
          "metadata": {}
        }
      ]
    },
    {
      "cell_type": "markdown",
      "metadata": {
        "id": "jBOE31x3yfBS"
      },
      "source": [
        "##SVM\n"
      ]
    },
    {
      "cell_type": "code",
      "source": [
        "def SVMmodel(C, gamma, Xtrain , Xtest, Xcal, Ytrain, Ytest, Ycal):\n",
        "  '''\n",
        "  C, gamma: equivalent of sigma and lambda parameters for gaussian kernel\n",
        "  '''\n",
        "\n",
        "  SVM = SVC(kernel = 'rbf',C=C, gamma=gamma,  class_weight = 'balanced')\n",
        "  SVM.fit(Xtrain, Ytrain)\n",
        "  #mapie wrapper to quantify model uncertainty\n",
        "  mapie_SVMclassifier = MapieClassifier(estimator=SVM, method='lac', cv='prefit')\n",
        "  mapie_SVMclassifier.fit(Xcal, Ycal)\n",
        "\n",
        "  pred, predps = mapie_SVMclassifier.predict(Xcal, alpha = 0.05) #95% confidence\n",
        "  SVMcoverage = classification_coverage_score_v2(Ycal, predps)\n",
        "\n",
        "  print(f'With 95% of certainty, the model precission on calibration set is {SVMcoverage}')\n",
        "\n",
        "  pred = SVM.predict(Xtest)\n",
        "\n",
        "  #confusion matrix for performance visualization\n",
        "  cm = confusion_matrix(Ytest, pred, labels= [0,1], normalize='all')\n",
        "  disp = ConfusionMatrixDisplay(confusion_matrix=cm, display_labels= [0,1])\n",
        "\n",
        "  disp.plot()\n",
        "  #plt.savefig('svmraw.png')\n",
        "\n",
        "  gc.collect()\n",
        "\n",
        "  return"
      ],
      "metadata": {
        "id": "2IRumj59JW7n"
      },
      "execution_count": null,
      "outputs": []
    },
    {
      "cell_type": "code",
      "source": [
        "C=10\n",
        "gamma=0.1\n",
        "\n",
        "SVMmodel(C,gamma, X_train, X_test, X_cal ,Y_train ,Y_test ,Y_cal)"
      ],
      "metadata": {
        "id": "QwrfGvPuxq8o"
      },
      "execution_count": null,
      "outputs": []
    },
    {
      "cell_type": "markdown",
      "metadata": {
        "id": "omEjDvgvTV7P"
      },
      "source": [
        "#Simple DNN"
      ]
    },
    {
      "cell_type": "code",
      "source": [
        "def NNmodeltrain(model,epochs, batch, Xtrain,Xtest ,Xcal ,Ytrain ,Ytest, Ycal):\n",
        "  '''\n",
        "  model: architecture to train, must be defined outside the function\n",
        "  epochs: number of iterations of model trainning\n",
        "  batch: data chunks size the model will consider during trainning. Should be\n",
        "        equal to the number of neurons of the first layer.\n",
        "  '''\n",
        "\n",
        "  clf = KerasClassifier(model)\n",
        "\n",
        "  clf.fit(Xtrain, Ytrain, epochs = epochs, batch_size = batch ,\n",
        "          validation_data = (Xcal, Ycal), verbose = 2)\n",
        "  #mapie wrapper to quantify model uncertainty\n",
        "  mapie_NNclassifier =  MapieClassifier(estimator=clf, method='lac', cv='prefit')\n",
        "  mapie_NNclassifier.fit(Xcal, Ycal)\n",
        "\n",
        "  pred, predps = mapie_NNclassifier.predict(Xtest, alpha = 0.05) #95% confidence\n",
        "  NNcoverage = classification_coverage_score_v2(Ytest, predps)\n",
        "\n",
        "  print(f'With 95% of certainty, the model precission on calibration set is {NNcoverage}')\n",
        "\n",
        "  cm = confusion_matrix(Ytest, pred, labels = [0, 1], normalize='all')\n",
        "  disp = ConfusionMatrixDisplay(confusion_matrix=cm, display_labels = [0, 1])\n",
        "\n",
        "  disp.plot()\n",
        "\n",
        "  plt.savefig('NNraw.png')"
      ],
      "metadata": {
        "id": "D9xM-4MYPa-j"
      },
      "execution_count": null,
      "outputs": []
    },
    {
      "cell_type": "code",
      "execution_count": null,
      "metadata": {
        "colab": {
          "base_uri": "https://localhost:8080/",
          "height": 248
        },
        "id": "pYl99xO2U3oR",
        "outputId": "7e6dba9e-b4ff-46a9-e510-955a9982e023"
      },
      "outputs": [
        {
          "output_type": "stream",
          "name": "stderr",
          "text": [
            "/usr/local/lib/python3.10/dist-packages/keras/src/layers/core/dense.py:87: UserWarning: Do not pass an `input_shape`/`input_dim` argument to a layer. When using Sequential models, prefer using an `Input(shape)` object as the first layer in the model instead.\n",
            "  super().__init__(activity_regularizer=activity_regularizer, **kwargs)\n"
          ]
        },
        {
          "output_type": "display_data",
          "data": {
            "text/plain": [
              "\u001b[1mModel: \"sequential_3\"\u001b[0m\n"
            ],
            "text/html": [
              "<pre style=\"white-space:pre;overflow-x:auto;line-height:normal;font-family:Menlo,'DejaVu Sans Mono',consolas,'Courier New',monospace\"><span style=\"font-weight: bold\">Model: \"sequential_3\"</span>\n",
              "</pre>\n"
            ]
          },
          "metadata": {}
        },
        {
          "output_type": "display_data",
          "data": {
            "text/plain": [
              "┏━━━━━━━━━━━━━━━━━━━━━━━━━━━━━━━━━━━━━━┳━━━━━━━━━━━━━━━━━━━━━━━━━━━━━┳━━━━━━━━━━━━━━━━━┓\n",
              "┃\u001b[1m \u001b[0m\u001b[1mLayer (type)                        \u001b[0m\u001b[1m \u001b[0m┃\u001b[1m \u001b[0m\u001b[1mOutput Shape               \u001b[0m\u001b[1m \u001b[0m┃\u001b[1m \u001b[0m\u001b[1m        Param #\u001b[0m\u001b[1m \u001b[0m┃\n",
              "┡━━━━━━━━━━━━━━━━━━━━━━━━━━━━━━━━━━━━━━╇━━━━━━━━━━━━━━━━━━━━━━━━━━━━━╇━━━━━━━━━━━━━━━━━┩\n",
              "│ dense_6 (\u001b[38;5;33mDense\u001b[0m)                      │ (\u001b[38;5;45mNone\u001b[0m, \u001b[38;5;34m10\u001b[0m)                  │          \u001b[38;5;34m18,560\u001b[0m │\n",
              "├──────────────────────────────────────┼─────────────────────────────┼─────────────────┤\n",
              "│ dense_7 (\u001b[38;5;33mDense\u001b[0m)                      │ (\u001b[38;5;45mNone\u001b[0m, \u001b[38;5;34m1\u001b[0m)                   │              \u001b[38;5;34m11\u001b[0m │\n",
              "└──────────────────────────────────────┴─────────────────────────────┴─────────────────┘\n"
            ],
            "text/html": [
              "<pre style=\"white-space:pre;overflow-x:auto;line-height:normal;font-family:Menlo,'DejaVu Sans Mono',consolas,'Courier New',monospace\">┏━━━━━━━━━━━━━━━━━━━━━━━━━━━━━━━━━━━━━━┳━━━━━━━━━━━━━━━━━━━━━━━━━━━━━┳━━━━━━━━━━━━━━━━━┓\n",
              "┃<span style=\"font-weight: bold\"> Layer (type)                         </span>┃<span style=\"font-weight: bold\"> Output Shape                </span>┃<span style=\"font-weight: bold\">         Param # </span>┃\n",
              "┡━━━━━━━━━━━━━━━━━━━━━━━━━━━━━━━━━━━━━━╇━━━━━━━━━━━━━━━━━━━━━━━━━━━━━╇━━━━━━━━━━━━━━━━━┩\n",
              "│ dense_6 (<span style=\"color: #0087ff; text-decoration-color: #0087ff\">Dense</span>)                      │ (<span style=\"color: #00d7ff; text-decoration-color: #00d7ff\">None</span>, <span style=\"color: #00af00; text-decoration-color: #00af00\">10</span>)                  │          <span style=\"color: #00af00; text-decoration-color: #00af00\">18,560</span> │\n",
              "├──────────────────────────────────────┼─────────────────────────────┼─────────────────┤\n",
              "│ dense_7 (<span style=\"color: #0087ff; text-decoration-color: #0087ff\">Dense</span>)                      │ (<span style=\"color: #00d7ff; text-decoration-color: #00d7ff\">None</span>, <span style=\"color: #00af00; text-decoration-color: #00af00\">1</span>)                   │              <span style=\"color: #00af00; text-decoration-color: #00af00\">11</span> │\n",
              "└──────────────────────────────────────┴─────────────────────────────┴─────────────────┘\n",
              "</pre>\n"
            ]
          },
          "metadata": {}
        },
        {
          "output_type": "display_data",
          "data": {
            "text/plain": [
              "\u001b[1m Total params: \u001b[0m\u001b[38;5;34m18,571\u001b[0m (72.54 KB)\n"
            ],
            "text/html": [
              "<pre style=\"white-space:pre;overflow-x:auto;line-height:normal;font-family:Menlo,'DejaVu Sans Mono',consolas,'Courier New',monospace\"><span style=\"font-weight: bold\"> Total params: </span><span style=\"color: #00af00; text-decoration-color: #00af00\">18,571</span> (72.54 KB)\n",
              "</pre>\n"
            ]
          },
          "metadata": {}
        },
        {
          "output_type": "display_data",
          "data": {
            "text/plain": [
              "\u001b[1m Trainable params: \u001b[0m\u001b[38;5;34m18,571\u001b[0m (72.54 KB)\n"
            ],
            "text/html": [
              "<pre style=\"white-space:pre;overflow-x:auto;line-height:normal;font-family:Menlo,'DejaVu Sans Mono',consolas,'Courier New',monospace\"><span style=\"font-weight: bold\"> Trainable params: </span><span style=\"color: #00af00; text-decoration-color: #00af00\">18,571</span> (72.54 KB)\n",
              "</pre>\n"
            ]
          },
          "metadata": {}
        },
        {
          "output_type": "display_data",
          "data": {
            "text/plain": [
              "\u001b[1m Non-trainable params: \u001b[0m\u001b[38;5;34m0\u001b[0m (0.00 B)\n"
            ],
            "text/html": [
              "<pre style=\"white-space:pre;overflow-x:auto;line-height:normal;font-family:Menlo,'DejaVu Sans Mono',consolas,'Courier New',monospace\"><span style=\"font-weight: bold\"> Non-trainable params: </span><span style=\"color: #00af00; text-decoration-color: #00af00\">0</span> (0.00 B)\n",
              "</pre>\n"
            ]
          },
          "metadata": {}
        }
      ],
      "source": [
        "#Here I create the model\n",
        "\n",
        "L = len(X_train[0])\n",
        "\n",
        "model = Sequential()\n",
        "model.add(Dense(10, input_shape=(L,), activation = 'relu')) #relu stands for rectified linear function\n",
        "\n",
        "model.add(Dense(1, activation = 'sigmoid')) #I want values between 0 and 1, that is why I use 'sigmoid'\n",
        "\n",
        "model.summary()"
      ]
    },
    {
      "cell_type": "code",
      "execution_count": null,
      "metadata": {
        "id": "Er5eUd75W5b2"
      },
      "outputs": [],
      "source": [
        "#specify loss function and metrics to consider during trainning\n",
        "model.compile(loss = 'binary_focal_crossentropy' , optimizer = 'adam', metrics = ['binary_accuracy'])"
      ]
    },
    {
      "cell_type": "code",
      "source": [
        "NNmodeltrain(model, 10, 10, X_train, X_test, X_cal, Y_train, Y_test, Y_cal)"
      ],
      "metadata": {
        "colab": {
          "base_uri": "https://localhost:8080/",
          "height": 865
        },
        "id": "4UdLJM_XjiMX",
        "outputId": "e418dd1d-7bfc-489e-8e6b-04b3437ff151"
      },
      "execution_count": null,
      "outputs": [
        {
          "output_type": "stream",
          "name": "stdout",
          "text": [
            "Epoch 1/10\n",
            "2418/2418 - 6s - 2ms/step - binary_accuracy: 0.9807 - loss: 0.0283 - val_binary_accuracy: 0.9813 - val_loss: 0.0270\n",
            "Epoch 2/10\n",
            "2418/2418 - 5s - 2ms/step - binary_accuracy: 0.9809 - loss: 0.0269 - val_binary_accuracy: 0.9813 - val_loss: 0.0270\n",
            "Epoch 3/10\n",
            "2418/2418 - 6s - 2ms/step - binary_accuracy: 0.9809 - loss: 0.0262 - val_binary_accuracy: 0.9813 - val_loss: 0.0277\n",
            "Epoch 4/10\n",
            "2418/2418 - 4s - 2ms/step - binary_accuracy: 0.9809 - loss: 0.0254 - val_binary_accuracy: 0.9813 - val_loss: 0.0275\n",
            "Epoch 5/10\n",
            "2418/2418 - 10s - 4ms/step - binary_accuracy: 0.9809 - loss: 0.0245 - val_binary_accuracy: 0.9813 - val_loss: 0.0272\n",
            "Epoch 6/10\n",
            "2418/2418 - 5s - 2ms/step - binary_accuracy: 0.9809 - loss: 0.0237 - val_binary_accuracy: 0.9813 - val_loss: 0.0285\n",
            "Epoch 7/10\n",
            "2418/2418 - 4s - 2ms/step - binary_accuracy: 0.9809 - loss: 0.0227 - val_binary_accuracy: 0.9813 - val_loss: 0.0285\n",
            "Epoch 8/10\n",
            "2418/2418 - 9s - 4ms/step - binary_accuracy: 0.9809 - loss: 0.0218 - val_binary_accuracy: 0.9813 - val_loss: 0.0297\n",
            "Epoch 9/10\n",
            "2418/2418 - 7s - 3ms/step - binary_accuracy: 0.9809 - loss: 0.0211 - val_binary_accuracy: 0.9809 - val_loss: 0.0301\n",
            "Epoch 10/10\n",
            "2418/2418 - 7s - 3ms/step - binary_accuracy: 0.9809 - loss: 0.0203 - val_binary_accuracy: 0.9806 - val_loss: 0.0306\n",
            "\u001b[1m252/252\u001b[0m \u001b[32m━━━━━━━━━━━━━━━━━━━━\u001b[0m\u001b[37m\u001b[0m \u001b[1m0s\u001b[0m 2ms/step\n",
            "\u001b[1m252/252\u001b[0m \u001b[32m━━━━━━━━━━━━━━━━━━━━\u001b[0m\u001b[37m\u001b[0m \u001b[1m0s\u001b[0m 1ms/step\n",
            "\u001b[1m252/252\u001b[0m \u001b[32m━━━━━━━━━━━━━━━━━━━━\u001b[0m\u001b[37m\u001b[0m \u001b[1m0s\u001b[0m 1ms/step\n",
            "With 95% of certainty, the model precission is [0.95447215]\n"
          ]
        },
        {
          "output_type": "display_data",
          "data": {
            "text/plain": [
              "<Figure size 640x480 with 2 Axes>"
            ],
            "image/png": "[encoded data removed]"
          },
          "metadata": {}
        }
      ]
    },
    {
      "cell_type": "markdown",
      "metadata": {
        "id": "Cq6BqerkJAYh"
      },
      "source": [
        "#Performance on Graphs"
      ]
    },
    {
      "cell_type": "markdown",
      "source": [
        "So far we just considered the raw data for classification. On the following I will retrain each model with the data obtained from the graphs representation adjusting it to the limitation of the models. Graphs data is three-dimensional since appart from the event and phe charge values that we had before now it also has information about the connection between nodes. Nevertheless, scikit-learn models do not accept 3D data. To compare the performance on each dataset I created a third dataset made of the mean value of connected nodes, this new dataset is again two-dimensional at the cost of loosing the information relative to node connections.\n",
        "\n",
        "On the other hand, since keras library allows it, an architecture for 3D data is also designed and trained on graphs data."
      ],
      "metadata": {
        "id": "dMXiGeP6wDTK"
      }
    },
    {
      "cell_type": "code",
      "execution_count": null,
      "metadata": {
        "id": "4mCF261FJEt0"
      },
      "outputs": [],
      "source": [
        "#load graphs\n",
        "graphs = np.load(pth + 'finalgraph.npz')"
      ]
    },
    {
      "cell_type": "code",
      "execution_count": null,
      "metadata": {
        "id": "PgNoEJVeLxxW"
      },
      "outputs": [],
      "source": [
        "graphsdata = graphs['graph']#3D graph data"
      ]
    },
    {
      "cell_type": "code",
      "execution_count": null,
      "metadata": {
        "id": "PIYPCa5XoK5X"
      },
      "outputs": [],
      "source": [
        "X = np.load(pth + 'TFG.npz')#2D graph data"
      ]
    },
    {
      "cell_type": "code",
      "execution_count": null,
      "metadata": {
        "id": "t0NWQBD2o0Qk"
      },
      "outputs": [],
      "source": [
        "X = X['X'] #Graphs with edges expressed as the mean of their nodes"
      ]
    },
    {
      "cell_type": "code",
      "source": [
        "#filter out flatfield events\n",
        "filgraph, _ = filtflatfield(graphsdata, event)\n",
        "X, _ = filtflatfield(X, event)"
      ],
      "metadata": {
        "id": "wB1k66R5c9Zn"
      },
      "execution_count": null,
      "outputs": []
    },
    {
      "cell_type": "code",
      "execution_count": null,
      "metadata": {
        "id": "Cl3MtP8-JqEi"
      },
      "outputs": [],
      "source": [
        "X_train,X_test ,X_cal ,Y_train ,Y_test, Y_cal = split_norm(X, filtmask)"
      ]
    },
    {
      "cell_type": "code",
      "source": [
        "KNNmodel(3,X_train,X_test ,X_cal ,Y_train ,Y_test, Y_cal)"
      ],
      "metadata": {
        "colab": {
          "base_uri": "https://localhost:8080/",
          "height": 466
        },
        "id": "P1ZT2BjknrY6",
        "outputId": "0a207574-c6cb-4e65-e715-268ca600c63c"
      },
      "execution_count": null,
      "outputs": [
        {
          "output_type": "stream",
          "name": "stdout",
          "text": [
            "With 95% of certainty, the model precission is [0.97990324]\n"
          ]
        },
        {
          "output_type": "display_data",
          "data": {
            "text/plain": [
              "<Figure size 640x480 with 2 Axes>"
            ],
            "image/png": "[encoded data removed]"
          },
          "metadata": {}
        }
      ]
    },
    {
      "cell_type": "code",
      "source": [
        "C = 5\n",
        "gamma = 0.05\n",
        "SVMmodel(C, gamma, X_train, X_test ,X_cal ,Y_train ,Y_test, Y_cal)"
      ],
      "metadata": {
        "colab": {
          "base_uri": "https://localhost:8080/",
          "height": 466
        },
        "id": "kfOcq4kPnxqw",
        "outputId": "1134ccba-913a-45cf-e7b1-d5bedc88efdf"
      },
      "execution_count": null,
      "outputs": [
        {
          "output_type": "stream",
          "name": "stdout",
          "text": [
            "With 95% of certainty, the model precission is [0.98164]\n"
          ]
        },
        {
          "output_type": "display_data",
          "data": {
            "text/plain": [
              "<Figure size 640x480 with 2 Axes>"
            ],
            "image/png": "[encoded data removed]"
          },
          "metadata": {}
        }
      ]
    },
    {
      "cell_type": "markdown",
      "source": [
        "For the Neural network I will train two different models. One will be the same as the used before which requires 2D data in order to do proper comparison, the second will be a diferent model to be trained with the graphs raw 3D data which will try to learn from the configuration of the nodes determined by the ants."
      ],
      "metadata": {
        "id": "OHXWSxNioGou"
      }
    },
    {
      "cell_type": "code",
      "execution_count": null,
      "metadata": {
        "id": "SSDfpVo0u9ui"
      },
      "outputs": [],
      "source": [
        "X_train,X_test ,X_cal ,Y_train ,Y_test, Y_cal = split_norm(X, filtmask)\n"
      ]
    },
    {
      "cell_type": "code",
      "source": [
        "#Same model as before:\n",
        "\n",
        "L = len(X_train[0])\n",
        "\n",
        "model = Sequential()\n",
        "model.add(Dense(10, input_shape=(L,), activation = 'relu'))\n",
        "model.add(Dense(1, activation = 'sigmoid')) #I want values between 0 and 1, that is why I use 'sigmoid'\n",
        "\n",
        "model.summary()"
      ],
      "metadata": {
        "colab": {
          "base_uri": "https://localhost:8080/",
          "height": 248
        },
        "id": "UxKUh3GopZex",
        "outputId": "3a727183-e856-47d4-8418-20b1287eca2c"
      },
      "execution_count": null,
      "outputs": [
        {
          "output_type": "stream",
          "name": "stderr",
          "text": [
            "/usr/local/lib/python3.10/dist-packages/keras/src/layers/core/dense.py:87: UserWarning: Do not pass an `input_shape`/`input_dim` argument to a layer. When using Sequential models, prefer using an `Input(shape)` object as the first layer in the model instead.\n",
            "  super().__init__(activity_regularizer=activity_regularizer, **kwargs)\n"
          ]
        },
        {
          "output_type": "display_data",
          "data": {
            "text/plain": [
              "\u001b[1mModel: \"sequential_3\"\u001b[0m\n"
            ],
            "text/html": [
              "<pre style=\"white-space:pre;overflow-x:auto;line-height:normal;font-family:Menlo,'DejaVu Sans Mono',consolas,'Courier New',monospace\"><span style=\"font-weight: bold\">Model: \"sequential_3\"</span>\n",
              "</pre>\n"
            ]
          },
          "metadata": {}
        },
        {
          "output_type": "display_data",
          "data": {
            "text/plain": [
              "┏━━━━━━━━━━━━━━━━━━━━━━━━━━━━━━━━━━━━━━┳━━━━━━━━━━━━━━━━━━━━━━━━━━━━━┳━━━━━━━━━━━━━━━━━┓\n",
              "┃\u001b[1m \u001b[0m\u001b[1mLayer (type)                        \u001b[0m\u001b[1m \u001b[0m┃\u001b[1m \u001b[0m\u001b[1mOutput Shape               \u001b[0m\u001b[1m \u001b[0m┃\u001b[1m \u001b[0m\u001b[1m        Param #\u001b[0m\u001b[1m \u001b[0m┃\n",
              "┡━━━━━━━━━━━━━━━━━━━━━━━━━━━━━━━━━━━━━━╇━━━━━━━━━━━━━━━━━━━━━━━━━━━━━╇━━━━━━━━━━━━━━━━━┩\n",
              "│ dense_6 (\u001b[38;5;33mDense\u001b[0m)                      │ (\u001b[38;5;45mNone\u001b[0m, \u001b[38;5;34m10\u001b[0m)                  │          \u001b[38;5;34m18,560\u001b[0m │\n",
              "├──────────────────────────────────────┼─────────────────────────────┼─────────────────┤\n",
              "│ dense_7 (\u001b[38;5;33mDense\u001b[0m)                      │ (\u001b[38;5;45mNone\u001b[0m, \u001b[38;5;34m1\u001b[0m)                   │              \u001b[38;5;34m11\u001b[0m │\n",
              "└──────────────────────────────────────┴─────────────────────────────┴─────────────────┘\n"
            ],
            "text/html": [
              "<pre style=\"white-space:pre;overflow-x:auto;line-height:normal;font-family:Menlo,'DejaVu Sans Mono',consolas,'Courier New',monospace\">┏━━━━━━━━━━━━━━━━━━━━━━━━━━━━━━━━━━━━━━┳━━━━━━━━━━━━━━━━━━━━━━━━━━━━━┳━━━━━━━━━━━━━━━━━┓\n",
              "┃<span style=\"font-weight: bold\"> Layer (type)                         </span>┃<span style=\"font-weight: bold\"> Output Shape                </span>┃<span style=\"font-weight: bold\">         Param # </span>┃\n",
              "┡━━━━━━━━━━━━━━━━━━━━━━━━━━━━━━━━━━━━━━╇━━━━━━━━━━━━━━━━━━━━━━━━━━━━━╇━━━━━━━━━━━━━━━━━┩\n",
              "│ dense_6 (<span style=\"color: #0087ff; text-decoration-color: #0087ff\">Dense</span>)                      │ (<span style=\"color: #00d7ff; text-decoration-color: #00d7ff\">None</span>, <span style=\"color: #00af00; text-decoration-color: #00af00\">10</span>)                  │          <span style=\"color: #00af00; text-decoration-color: #00af00\">18,560</span> │\n",
              "├──────────────────────────────────────┼─────────────────────────────┼─────────────────┤\n",
              "│ dense_7 (<span style=\"color: #0087ff; text-decoration-color: #0087ff\">Dense</span>)                      │ (<span style=\"color: #00d7ff; text-decoration-color: #00d7ff\">None</span>, <span style=\"color: #00af00; text-decoration-color: #00af00\">1</span>)                   │              <span style=\"color: #00af00; text-decoration-color: #00af00\">11</span> │\n",
              "└──────────────────────────────────────┴─────────────────────────────┴─────────────────┘\n",
              "</pre>\n"
            ]
          },
          "metadata": {}
        },
        {
          "output_type": "display_data",
          "data": {
            "text/plain": [
              "\u001b[1m Total params: \u001b[0m\u001b[38;5;34m18,571\u001b[0m (72.54 KB)\n"
            ],
            "text/html": [
              "<pre style=\"white-space:pre;overflow-x:auto;line-height:normal;font-family:Menlo,'DejaVu Sans Mono',consolas,'Courier New',monospace\"><span style=\"font-weight: bold\"> Total params: </span><span style=\"color: #00af00; text-decoration-color: #00af00\">18,571</span> (72.54 KB)\n",
              "</pre>\n"
            ]
          },
          "metadata": {}
        },
        {
          "output_type": "display_data",
          "data": {
            "text/plain": [
              "\u001b[1m Trainable params: \u001b[0m\u001b[38;5;34m18,571\u001b[0m (72.54 KB)\n"
            ],
            "text/html": [
              "<pre style=\"white-space:pre;overflow-x:auto;line-height:normal;font-family:Menlo,'DejaVu Sans Mono',consolas,'Courier New',monospace\"><span style=\"font-weight: bold\"> Trainable params: </span><span style=\"color: #00af00; text-decoration-color: #00af00\">18,571</span> (72.54 KB)\n",
              "</pre>\n"
            ]
          },
          "metadata": {}
        },
        {
          "output_type": "display_data",
          "data": {
            "text/plain": [
              "\u001b[1m Non-trainable params: \u001b[0m\u001b[38;5;34m0\u001b[0m (0.00 B)\n"
            ],
            "text/html": [
              "<pre style=\"white-space:pre;overflow-x:auto;line-height:normal;font-family:Menlo,'DejaVu Sans Mono',consolas,'Courier New',monospace\"><span style=\"font-weight: bold\"> Non-trainable params: </span><span style=\"color: #00af00; text-decoration-color: #00af00\">0</span> (0.00 B)\n",
              "</pre>\n"
            ]
          },
          "metadata": {}
        }
      ]
    },
    {
      "cell_type": "code",
      "source": [
        "#here I fine-tuned a bit the loss function parameters\n",
        "loss_fn = keras.losses.BinaryFocalCrossentropy(\n",
        "    apply_class_balancing = False,\n",
        "    alpha=0.000001,\n",
        "    gamma=1.,\n",
        "    from_logits=False,\n",
        "    label_smoothing=0.0,\n",
        "    axis=-1,\n",
        "    reduction=\"sum_over_batch_size\",\n",
        "    name=\"binary_focal_crossentropy\",\n",
        ")"
      ],
      "metadata": {
        "id": "62mt5IRMpm_-"
      },
      "execution_count": null,
      "outputs": []
    },
    {
      "cell_type": "code",
      "source": [
        "model.compile(loss = loss_fn ,\n",
        "              optimizer=keras.optimizers.Adam(learning_rate=1e-3),\n",
        "              metrics = ['binary_accuracy'])"
      ],
      "metadata": {
        "id": "HF5Bn1tcpztE"
      },
      "execution_count": null,
      "outputs": []
    },
    {
      "cell_type": "code",
      "source": [
        "NNmodeltrain(model,10,10,X_train,X_test ,X_cal ,Y_train ,Y_test, Y_cal)"
      ],
      "metadata": {
        "colab": {
          "base_uri": "https://localhost:8080/",
          "height": 865
        },
        "id": "OwAcY5yPp1hZ",
        "outputId": "e6956f81-3254-4b3f-d738-1623183ac952"
      },
      "execution_count": null,
      "outputs": [
        {
          "output_type": "stream",
          "name": "stdout",
          "text": [
            "Epoch 1/10\n",
            "2418/2418 - 100s - 42ms/step - binary_accuracy: 0.9811 - loss: 3.5554e-04 - val_binary_accuracy: 0.9813 - val_loss: 3.5256e-04\n",
            "Epoch 2/10\n",
            "2418/2418 - 7s - 3ms/step - binary_accuracy: 0.9811 - loss: 3.5216e-04 - val_binary_accuracy: 0.9813 - val_loss: 3.4766e-04\n",
            "Epoch 3/10\n",
            "2418/2418 - 9s - 4ms/step - binary_accuracy: 0.9811 - loss: 3.5135e-04 - val_binary_accuracy: 0.9813 - val_loss: 3.4670e-04\n",
            "Epoch 4/10\n",
            "2418/2418 - 6s - 3ms/step - binary_accuracy: 0.9811 - loss: 3.5237e-04 - val_binary_accuracy: 0.9813 - val_loss: 3.4551e-04\n",
            "Epoch 5/10\n",
            "2418/2418 - 9s - 4ms/step - binary_accuracy: 0.9811 - loss: 3.5232e-04 - val_binary_accuracy: 0.9813 - val_loss: 3.4517e-04\n",
            "Epoch 6/10\n",
            "2418/2418 - 6s - 2ms/step - binary_accuracy: 0.9811 - loss: 3.5192e-04 - val_binary_accuracy: 0.9813 - val_loss: 3.4481e-04\n",
            "Epoch 7/10\n",
            "2418/2418 - 9s - 4ms/step - binary_accuracy: 0.9811 - loss: 3.5110e-04 - val_binary_accuracy: 0.9813 - val_loss: 3.4473e-04\n",
            "Epoch 8/10\n",
            "2418/2418 - 5s - 2ms/step - binary_accuracy: 0.9811 - loss: 3.5229e-04 - val_binary_accuracy: 0.9813 - val_loss: 3.4485e-04\n",
            "Epoch 9/10\n",
            "2418/2418 - 9s - 4ms/step - binary_accuracy: 0.9811 - loss: 3.5151e-04 - val_binary_accuracy: 0.9813 - val_loss: 3.5055e-04\n",
            "Epoch 10/10\n",
            "2418/2418 - 6s - 3ms/step - binary_accuracy: 0.9811 - loss: 3.5166e-04 - val_binary_accuracy: 0.9813 - val_loss: 3.4533e-04\n",
            "\u001b[1m252/252\u001b[0m \u001b[32m━━━━━━━━━━━━━━━━━━━━\u001b[0m\u001b[37m\u001b[0m \u001b[1m0s\u001b[0m 1ms/step\n",
            "\u001b[1m252/252\u001b[0m \u001b[32m━━━━━━━━━━━━━━━━━━━━\u001b[0m\u001b[37m\u001b[0m \u001b[1m0s\u001b[0m 1ms/step\n",
            "\u001b[1m252/252\u001b[0m \u001b[32m━━━━━━━━━━━━━━━━━━━━\u001b[0m\u001b[37m\u001b[0m \u001b[1m0s\u001b[0m 1ms/step\n",
            "With 95% of certainty, the model precission is [0.97928297]\n"
          ]
        },
        {
          "output_type": "display_data",
          "data": {
            "text/plain": [
              "<Figure size 640x480 with 2 Axes>"
            ],
            "image/png": "[encoded data removed]"
          },
          "metadata": {}
        }
      ]
    },
    {
      "cell_type": "code",
      "source": [
        "#Now we will consider 3D graphs data\n",
        "filtedgraph, _ = filtflatfield(graphsdata, event)"
      ],
      "metadata": {
        "id": "S4JgwTmoHLz3"
      },
      "execution_count": null,
      "outputs": []
    },
    {
      "cell_type": "code",
      "source": [
        "X_train,X_test ,X_cal ,Y_train ,Y_test, Y_cal = graph_split_norm(filtedgraph, filtmask)"
      ],
      "metadata": {
        "id": "1cglDm4HqEPM"
      },
      "execution_count": null,
      "outputs": []
    },
    {
      "cell_type": "code",
      "execution_count": null,
      "metadata": {
        "id": "xZ8to600u9rE",
        "colab": {
          "base_uri": "https://localhost:8080/",
          "height": 360
        },
        "outputId": "6327cff1-4362-4d05-b718-4ec3c92c9266"
      },
      "outputs": [
        {
          "output_type": "stream",
          "name": "stderr",
          "text": [
            "/usr/local/lib/python3.10/dist-packages/keras/src/layers/core/dense.py:87: UserWarning: Do not pass an `input_shape`/`input_dim` argument to a layer. When using Sequential models, prefer using an `Input(shape)` object as the first layer in the model instead.\n",
            "  super().__init__(activity_regularizer=activity_regularizer, **kwargs)\n"
          ]
        },
        {
          "output_type": "display_data",
          "data": {
            "text/plain": [
              "\u001b[1mModel: \"sequential_1\"\u001b[0m\n"
            ],
            "text/html": [
              "<pre style=\"white-space:pre;overflow-x:auto;line-height:normal;font-family:Menlo,'DejaVu Sans Mono',consolas,'Courier New',monospace\"><span style=\"font-weight: bold\">Model: \"sequential_1\"</span>\n",
              "</pre>\n"
            ]
          },
          "metadata": {}
        },
        {
          "output_type": "display_data",
          "data": {
            "text/plain": [
              "┏━━━━━━━━━━━━━━━━━━━━━━━━━━━━━━━━━━━━━━┳━━━━━━━━━━━━━━━━━━━━━━━━━━━━━┳━━━━━━━━━━━━━━━━━┓\n",
              "┃\u001b[1m \u001b[0m\u001b[1mLayer (type)                        \u001b[0m\u001b[1m \u001b[0m┃\u001b[1m \u001b[0m\u001b[1mOutput Shape               \u001b[0m\u001b[1m \u001b[0m┃\u001b[1m \u001b[0m\u001b[1m        Param #\u001b[0m\u001b[1m \u001b[0m┃\n",
              "┡━━━━━━━━━━━━━━━━━━━━━━━━━━━━━━━━━━━━━━╇━━━━━━━━━━━━━━━━━━━━━━━━━━━━━╇━━━━━━━━━━━━━━━━━┩\n",
              "│ dense_3 (\u001b[38;5;33mDense\u001b[0m)                      │ (\u001b[38;5;45mNone\u001b[0m, \u001b[38;5;34m1856\u001b[0m, \u001b[38;5;34m20\u001b[0m)            │              \u001b[38;5;34m60\u001b[0m │\n",
              "├──────────────────────────────────────┼─────────────────────────────┼─────────────────┤\n",
              "│ conv1d_1 (\u001b[38;5;33mConv1D\u001b[0m)                    │ (\u001b[38;5;45mNone\u001b[0m, \u001b[38;5;34m1855\u001b[0m, \u001b[38;5;34m20\u001b[0m)            │             \u001b[38;5;34m820\u001b[0m │\n",
              "├──────────────────────────────────────┼─────────────────────────────┼─────────────────┤\n",
              "│ global_max_pooling1d_1               │ (\u001b[38;5;45mNone\u001b[0m, \u001b[38;5;34m20\u001b[0m)                  │               \u001b[38;5;34m0\u001b[0m │\n",
              "│ (\u001b[38;5;33mGlobalMaxPooling1D\u001b[0m)                 │                             │                 │\n",
              "├──────────────────────────────────────┼─────────────────────────────┼─────────────────┤\n",
              "│ dense_4 (\u001b[38;5;33mDense\u001b[0m)                      │ (\u001b[38;5;45mNone\u001b[0m, \u001b[38;5;34m20\u001b[0m)                  │             \u001b[38;5;34m420\u001b[0m │\n",
              "├──────────────────────────────────────┼─────────────────────────────┼─────────────────┤\n",
              "│ dense_5 (\u001b[38;5;33mDense\u001b[0m)                      │ (\u001b[38;5;45mNone\u001b[0m, \u001b[38;5;34m1\u001b[0m)                   │              \u001b[38;5;34m21\u001b[0m │\n",
              "└──────────────────────────────────────┴─────────────────────────────┴─────────────────┘\n"
            ],
            "text/html": [
              "<pre style=\"white-space:pre;overflow-x:auto;line-height:normal;font-family:Menlo,'DejaVu Sans Mono',consolas,'Courier New',monospace\">┏━━━━━━━━━━━━━━━━━━━━━━━━━━━━━━━━━━━━━━┳━━━━━━━━━━━━━━━━━━━━━━━━━━━━━┳━━━━━━━━━━━━━━━━━┓\n",
              "┃<span style=\"font-weight: bold\"> Layer (type)                         </span>┃<span style=\"font-weight: bold\"> Output Shape                </span>┃<span style=\"font-weight: bold\">         Param # </span>┃\n",
              "┡━━━━━━━━━━━━━━━━━━━━━━━━━━━━━━━━━━━━━━╇━━━━━━━━━━━━━━━━━━━━━━━━━━━━━╇━━━━━━━━━━━━━━━━━┩\n",
              "│ dense_3 (<span style=\"color: #0087ff; text-decoration-color: #0087ff\">Dense</span>)                      │ (<span style=\"color: #00d7ff; text-decoration-color: #00d7ff\">None</span>, <span style=\"color: #00af00; text-decoration-color: #00af00\">1856</span>, <span style=\"color: #00af00; text-decoration-color: #00af00\">20</span>)            │              <span style=\"color: #00af00; text-decoration-color: #00af00\">60</span> │\n",
              "├──────────────────────────────────────┼─────────────────────────────┼─────────────────┤\n",
              "│ conv1d_1 (<span style=\"color: #0087ff; text-decoration-color: #0087ff\">Conv1D</span>)                    │ (<span style=\"color: #00d7ff; text-decoration-color: #00d7ff\">None</span>, <span style=\"color: #00af00; text-decoration-color: #00af00\">1855</span>, <span style=\"color: #00af00; text-decoration-color: #00af00\">20</span>)            │             <span style=\"color: #00af00; text-decoration-color: #00af00\">820</span> │\n",
              "├──────────────────────────────────────┼─────────────────────────────┼─────────────────┤\n",
              "│ global_max_pooling1d_1               │ (<span style=\"color: #00d7ff; text-decoration-color: #00d7ff\">None</span>, <span style=\"color: #00af00; text-decoration-color: #00af00\">20</span>)                  │               <span style=\"color: #00af00; text-decoration-color: #00af00\">0</span> │\n",
              "│ (<span style=\"color: #0087ff; text-decoration-color: #0087ff\">GlobalMaxPooling1D</span>)                 │                             │                 │\n",
              "├──────────────────────────────────────┼─────────────────────────────┼─────────────────┤\n",
              "│ dense_4 (<span style=\"color: #0087ff; text-decoration-color: #0087ff\">Dense</span>)                      │ (<span style=\"color: #00d7ff; text-decoration-color: #00d7ff\">None</span>, <span style=\"color: #00af00; text-decoration-color: #00af00\">20</span>)                  │             <span style=\"color: #00af00; text-decoration-color: #00af00\">420</span> │\n",
              "├──────────────────────────────────────┼─────────────────────────────┼─────────────────┤\n",
              "│ dense_5 (<span style=\"color: #0087ff; text-decoration-color: #0087ff\">Dense</span>)                      │ (<span style=\"color: #00d7ff; text-decoration-color: #00d7ff\">None</span>, <span style=\"color: #00af00; text-decoration-color: #00af00\">1</span>)                   │              <span style=\"color: #00af00; text-decoration-color: #00af00\">21</span> │\n",
              "└──────────────────────────────────────┴─────────────────────────────┴─────────────────┘\n",
              "</pre>\n"
            ]
          },
          "metadata": {}
        },
        {
          "output_type": "display_data",
          "data": {
            "text/plain": [
              "\u001b[1m Total params: \u001b[0m\u001b[38;5;34m1,321\u001b[0m (5.16 KB)\n"
            ],
            "text/html": [
              "<pre style=\"white-space:pre;overflow-x:auto;line-height:normal;font-family:Menlo,'DejaVu Sans Mono',consolas,'Courier New',monospace\"><span style=\"font-weight: bold\"> Total params: </span><span style=\"color: #00af00; text-decoration-color: #00af00\">1,321</span> (5.16 KB)\n",
              "</pre>\n"
            ]
          },
          "metadata": {}
        },
        {
          "output_type": "display_data",
          "data": {
            "text/plain": [
              "\u001b[1m Trainable params: \u001b[0m\u001b[38;5;34m1,321\u001b[0m (5.16 KB)\n"
            ],
            "text/html": [
              "<pre style=\"white-space:pre;overflow-x:auto;line-height:normal;font-family:Menlo,'DejaVu Sans Mono',consolas,'Courier New',monospace\"><span style=\"font-weight: bold\"> Trainable params: </span><span style=\"color: #00af00; text-decoration-color: #00af00\">1,321</span> (5.16 KB)\n",
              "</pre>\n"
            ]
          },
          "metadata": {}
        },
        {
          "output_type": "display_data",
          "data": {
            "text/plain": [
              "\u001b[1m Non-trainable params: \u001b[0m\u001b[38;5;34m0\u001b[0m (0.00 B)\n"
            ],
            "text/html": [
              "<pre style=\"white-space:pre;overflow-x:auto;line-height:normal;font-family:Menlo,'DejaVu Sans Mono',consolas,'Courier New',monospace\"><span style=\"font-weight: bold\"> Non-trainable params: </span><span style=\"color: #00af00; text-decoration-color: #00af00\">0</span> (0.00 B)\n",
              "</pre>\n"
            ]
          },
          "metadata": {}
        }
      ],
      "source": [
        "\n",
        "#Here I create the model\n",
        "L = len(X_train[0])\n",
        "\n",
        "#considerar cambiar la shape del resto de capas\n",
        "graphmodel = Sequential()\n",
        "graphmodel.add(Dense(20, input_shape=(L,2,), activation = 'relu'))\n",
        "\n",
        "graphmodel.add(Conv1D(20, kernel_size=2, activation='relu'))  # 1D convolution with kernel size 2\n",
        "graphmodel.add(GlobalMaxPooling1D())  # Global max pooling to aggregate information\n",
        "graphmodel.add(Dense(20, activation = 'relu'))\n",
        "#model.add(Dense(30, activation = 'relu'))\n",
        "\n",
        "graphmodel.add(Dense(1, activation = 'sigmoid'))\n",
        "\n",
        "graphmodel.summary()\n",
        "\n"
      ]
    },
    {
      "cell_type": "code",
      "source": [
        "loss_fn = keras.losses.BinaryFocalCrossentropy(\n",
        "    apply_class_balancing = True,\n",
        "    alpha=0.00001,\n",
        "    gamma=4.,\n",
        "    from_logits=False,\n",
        "    label_smoothing=0.0,\n",
        "    axis=-1,\n",
        "    reduction=\"sum_over_batch_size\",\n",
        "    name=\"binary_focal_crossentropy\",\n",
        ")"
      ],
      "metadata": {
        "id": "29A3N0WehxRt"
      },
      "execution_count": null,
      "outputs": []
    },
    {
      "cell_type": "code",
      "execution_count": null,
      "metadata": {
        "id": "sswzmIY5u9oI"
      },
      "outputs": [],
      "source": [
        "graphmodel.compile(loss = loss_fn ,\n",
        "              optimizer=keras.optimizers.Adam(learning_rate=1e-3),\n",
        "              metrics = ['binary_accuracy'])"
      ]
    },
    {
      "cell_type": "code",
      "source": [
        "NNmodeltrain(graphmodel, 5, 20, X_train, X_test ,X_cal ,Y_train ,Y_test, Y_cal)"
      ],
      "metadata": {
        "id": "5YA-txYPqyLU"
      },
      "execution_count": null,
      "outputs": []
    },
    {
      "cell_type": "markdown",
      "source": [
        "#Balanced dataset"
      ],
      "metadata": {
        "id": "Np69d6kVebvX"
      }
    },
    {
      "cell_type": "markdown",
      "source": [
        "Since the dataset is imbalanced I also studied the possibility of making up for that imbalance by generating aritificial pedestal events. I retrain all the models except for the convolutional neural network."
      ],
      "metadata": {
        "id": "9M6EPfPuyVI5"
      }
    },
    {
      "cell_type": "code",
      "source": [
        "%%capture\n",
        "!pip install -U imbalanced-learn\n"
      ],
      "metadata": {
        "id": "UkXIlY2XuFL6"
      },
      "execution_count": null,
      "outputs": []
    },
    {
      "cell_type": "code",
      "source": [
        "from imblearn.over_sampling import RandomOverSampler\n"
      ],
      "metadata": {
        "id": "f_vNpibbyroy"
      },
      "execution_count": null,
      "outputs": []
    },
    {
      "cell_type": "code",
      "source": [
        "#artificially oversample the class with less events\n",
        "ros = RandomOverSampler(random_state=42)\n",
        "X_res, y_res = ros.fit_resample(X_train, Y_train)"
      ],
      "metadata": {
        "id": "iYDaVKX3sLaG"
      },
      "execution_count": null,
      "outputs": []
    },
    {
      "cell_type": "code",
      "source": [
        "#Same model as before:\n",
        "\n",
        "L = len(X_train[0])\n",
        "\n",
        "model = Sequential()\n",
        "model.add(Dense(10, input_shape=(L,), activation = 'relu'))\n",
        "model.add(Dense(1, activation = 'sigmoid')) #I want values between 0 and 1, that is why I use 'sigmoid'\n",
        "\n",
        "model.summary()"
      ],
      "metadata": {
        "id": "oK2uMlIo1KeV"
      },
      "execution_count": null,
      "outputs": []
    },
    {
      "cell_type": "code",
      "source": [
        "\n",
        "model.compile(loss = 'binary_crossentropy' ,\n",
        "              optimizer=keras.optimizers.Adam(learning_rate=1e-3),\n",
        "              metrics = ['binary_accuracy'])"
      ],
      "metadata": {
        "id": "ClIhxXqOyd4W"
      },
      "execution_count": null,
      "outputs": []
    },
    {
      "cell_type": "code",
      "source": [
        "NNmodeltrain(model,10,10,X_res,X_test ,X_cal ,y_res ,Y_test, Y_cal)"
      ],
      "metadata": {
        "colab": {
          "base_uri": "https://localhost:8080/",
          "height": 868
        },
        "id": "6A_OqJ98yzf7",
        "outputId": "9ad6124d-b81e-4dfe-bd4a-4ff8316f04d8"
      },
      "execution_count": null,
      "outputs": [
        {
          "output_type": "stream",
          "name": "stdout",
          "text": [
            "Epoch 1/10\n",
            "4746/4746 - 10s - 2ms/step - binary_accuracy: 0.8117 - loss: 0.4047 - val_binary_accuracy: 0.6209 - val_loss: 0.4339\n",
            "Epoch 2/10\n",
            "4746/4746 - 8s - 2ms/step - binary_accuracy: 0.8117 - loss: 0.4048 - val_binary_accuracy: 0.6209 - val_loss: 0.4980\n",
            "Epoch 3/10\n",
            "4746/4746 - 10s - 2ms/step - binary_accuracy: 0.8117 - loss: 0.4047 - val_binary_accuracy: 0.6209 - val_loss: 0.4995\n",
            "Epoch 4/10\n",
            "4746/4746 - 9s - 2ms/step - binary_accuracy: 0.8117 - loss: 0.4048 - val_binary_accuracy: 0.6209 - val_loss: 0.5284\n",
            "Epoch 5/10\n",
            "4746/4746 - 10s - 2ms/step - binary_accuracy: 0.8117 - loss: 0.4046 - val_binary_accuracy: 0.6209 - val_loss: 0.5048\n",
            "Epoch 6/10\n",
            "4746/4746 - 21s - 4ms/step - binary_accuracy: 0.8117 - loss: 0.4045 - val_binary_accuracy: 0.6209 - val_loss: 0.5398\n",
            "Epoch 7/10\n",
            "4746/4746 - 19s - 4ms/step - binary_accuracy: 0.8117 - loss: 0.4047 - val_binary_accuracy: 0.6209 - val_loss: 0.4811\n",
            "Epoch 8/10\n",
            "4746/4746 - 10s - 2ms/step - binary_accuracy: 0.8117 - loss: 0.4046 - val_binary_accuracy: 0.6209 - val_loss: 0.5044\n",
            "Epoch 9/10\n",
            "4746/4746 - 9s - 2ms/step - binary_accuracy: 0.8117 - loss: 0.4046 - val_binary_accuracy: 0.6209 - val_loss: 0.4976\n",
            "Epoch 10/10\n",
            "4746/4746 - 11s - 2ms/step - binary_accuracy: 0.8117 - loss: 0.4048 - val_binary_accuracy: 0.6209 - val_loss: 0.4996\n",
            "\u001b[1m252/252\u001b[0m \u001b[32m━━━━━━━━━━━━━━━━━━━━\u001b[0m\u001b[37m\u001b[0m \u001b[1m0s\u001b[0m 1ms/step\n",
            "\u001b[1m252/252\u001b[0m \u001b[32m━━━━━━━━━━━━━━━━━━━━\u001b[0m\u001b[37m\u001b[0m \u001b[1m0s\u001b[0m 1ms/step\n",
            "\u001b[1m252/252\u001b[0m \u001b[32m━━━━━━━━━━━━━━━━━━━━\u001b[0m\u001b[37m\u001b[0m \u001b[1m0s\u001b[0m 1ms/step\n",
            "With 95% of certainty, the model precission on calibration set is [1.]\n"
          ]
        },
        {
          "output_type": "display_data",
          "data": {
            "text/plain": [
              "<Figure size 640x480 with 2 Axes>"
            ],
            "image/png": "[encoded data removed]"
          },
          "metadata": {}
        }
      ]
    },
    {
      "cell_type": "code",
      "source": [
        "KNNmodel(3,X_res,X_test ,X_cal ,y_res ,Y_test, Y_cal)"
      ],
      "metadata": {
        "colab": {
          "base_uri": "https://localhost:8080/",
          "height": 466
        },
        "id": "FqGS-O09zsAG",
        "outputId": "2f33372b-c9e3-4788-c176-b5c0d4544f3a"
      },
      "execution_count": null,
      "outputs": [
        {
          "output_type": "stream",
          "name": "stdout",
          "text": [
            "With 95% of certainty, the model precission on calibration set is [1.]\n"
          ]
        },
        {
          "output_type": "display_data",
          "data": {
            "text/plain": [
              "<Figure size 640x480 with 2 Axes>"
            ],
            "image/png": "[encoded data removed]"
          },
          "metadata": {}
        }
      ]
    },
    {
      "cell_type": "code",
      "source": [
        "C = 5\n",
        "gamma = 0.05\n",
        "SVMmodel(C, gamma, X_res, X_test ,X_cal ,y_res ,Y_test, Y_cal)"
      ],
      "metadata": {
        "id": "E6xCOWjR1k5C"
      },
      "execution_count": null,
      "outputs": []
    },
    {
      "cell_type": "code",
      "source": [
        "#Repeat for 2D graph data\n",
        "X_train,X_test ,X_cal ,Y_train ,Y_test, Y_cal = split_norm(X, filtmask)\n",
        "\n",
        "ros = RandomOverSampler(random_state=42)\n",
        "X_res, y_res = ros.fit_resample(X_train, Y_train)"
      ],
      "metadata": {
        "id": "c_HKoVhT1jKW"
      },
      "execution_count": null,
      "outputs": []
    },
    {
      "cell_type": "code",
      "source": [
        "#raw data\n",
        "\n",
        "KNNmodel(3,X_res,X_test ,X_cal ,y_res ,Y_test, Y_cal)"
      ],
      "metadata": {
        "colab": {
          "base_uri": "https://localhost:8080/",
          "height": 466
        },
        "id": "C_6vuqTE1u2u",
        "outputId": "a12f4134-5356-4cfb-817c-3f635d2f6a4c"
      },
      "execution_count": null,
      "outputs": [
        {
          "output_type": "stream",
          "name": "stdout",
          "text": [
            "With 95% of certainty, the model precission on calibration set is [0.87396105]\n"
          ]
        },
        {
          "output_type": "display_data",
          "data": {
            "text/plain": [
              "<Figure size 640x480 with 2 Axes>"
            ],
            "image/png": "[encoded data removed]"
          },
          "metadata": {}
        }
      ]
    },
    {
      "cell_type": "code",
      "source": [
        "NNmodeltrain(model,10,10,X_res,X_test ,X_cal ,y_res ,Y_test, Y_cal)"
      ],
      "metadata": {
        "colab": {
          "base_uri": "https://localhost:8080/",
          "height": 865
        },
        "id": "hGLEf4Ho1zN_",
        "outputId": "82c9668e-8d39-41f4-8f07-adae31a37334"
      },
      "execution_count": null,
      "outputs": [
        {
          "output_type": "stream",
          "name": "stdout",
          "text": [
            "Epoch 1/10\n",
            "4741/4741 - 11s - 2ms/step - binary_accuracy: 0.7022 - loss: 0.6133 - val_binary_accuracy: 0.7348 - val_loss: 0.5420\n",
            "Epoch 2/10\n",
            "4741/4741 - 8s - 2ms/step - binary_accuracy: 0.8564 - loss: 0.4088 - val_binary_accuracy: 0.7961 - val_loss: 0.4166\n",
            "Epoch 3/10\n",
            "4741/4741 - 9s - 2ms/step - binary_accuracy: 0.9055 - loss: 0.2995 - val_binary_accuracy: 0.8264 - val_loss: 0.3688\n",
            "Epoch 4/10\n",
            "4741/4741 - 11s - 2ms/step - binary_accuracy: 0.9298 - loss: 0.2362 - val_binary_accuracy: 0.8216 - val_loss: 0.3908\n",
            "Epoch 5/10\n",
            "4741/4741 - 8s - 2ms/step - binary_accuracy: 0.9420 - loss: 0.1947 - val_binary_accuracy: 0.8586 - val_loss: 0.3524\n",
            "Epoch 6/10\n",
            "4741/4741 - 12s - 2ms/step - binary_accuracy: 0.9515 - loss: 0.1637 - val_binary_accuracy: 0.8757 - val_loss: 0.3491\n",
            "Epoch 7/10\n",
            "4741/4741 - 10s - 2ms/step - binary_accuracy: 0.9604 - loss: 0.1381 - val_binary_accuracy: 0.8867 - val_loss: 0.3539\n",
            "Epoch 8/10\n",
            "4741/4741 - 8s - 2ms/step - binary_accuracy: 0.9669 - loss: 0.1190 - val_binary_accuracy: 0.9040 - val_loss: 0.3498\n",
            "Epoch 9/10\n",
            "4741/4741 - 10s - 2ms/step - binary_accuracy: 0.9722 - loss: 0.1034 - val_binary_accuracy: 0.8990 - val_loss: 0.3777\n",
            "Epoch 10/10\n",
            "4741/4741 - 8s - 2ms/step - binary_accuracy: 0.9766 - loss: 0.0904 - val_binary_accuracy: 0.9063 - val_loss: 0.3871\n",
            "\u001b[1m252/252\u001b[0m \u001b[32m━━━━━━━━━━━━━━━━━━━━\u001b[0m\u001b[37m\u001b[0m \u001b[1m1s\u001b[0m 2ms/step\n",
            "\u001b[1m252/252\u001b[0m \u001b[32m━━━━━━━━━━━━━━━━━━━━\u001b[0m\u001b[37m\u001b[0m \u001b[1m1s\u001b[0m 2ms/step\n",
            "\u001b[1m252/252\u001b[0m \u001b[32m━━━━━━━━━━━━━━━━━━━━\u001b[0m\u001b[37m\u001b[0m \u001b[1m0s\u001b[0m 1ms/step\n",
            "With 95% of certainty, the model precission on calibration set is [0.95335566]\n"
          ]
        },
        {
          "output_type": "display_data",
          "data": {
            "text/plain": [
              "<Figure size 640x480 with 2 Axes>"
            ],
            "image/png": "[encoded data removed]"
          },
          "metadata": {}
        }
      ]
    },
    {
      "cell_type": "code",
      "source": [
        "C = 5\n",
        "gamma = 0.05\n",
        "SVMmodel(C, gamma, X_res, X_test ,X_cal ,y_res ,Y_test, Y_cal)"
      ],
      "metadata": {
        "id": "RtjWnXuf_167",
        "colab": {
          "base_uri": "https://localhost:8080/",
          "height": 453
        },
        "outputId": "3bc0e061-6669-430e-896d-4f4a0b9d8512"
      },
      "execution_count": null,
      "outputs": [
        {
          "output_type": "display_data",
          "data": {
            "text/plain": [
              "<Figure size 640x480 with 2 Axes>"
            ],
            "image/png": "[encoded data removed]"
          },
          "metadata": {}
        }
      ]
    }
  ],
  "metadata": {
    "colab": {
      "provenance": [],
      "collapsed_sections": [
        "yWAaurHpeElG",
        "jBOE31x3yfBS",
        "omEjDvgvTV7P",
        "Np69d6kVebvX"
      ],
      "authorship_tag": "ABX9TyNTMqvjQqoCRYiz3z1ss5Z8",
      "include_colab_link": true
    },
    "kernelspec": {
      "display_name": "Python 3",
      "name": "python3"
    },
    "language_info": {
      "name": "python"
    }
  },
  "nbformat": 4,
  "nbformat_minor": 0
}